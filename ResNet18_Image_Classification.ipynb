{
 "cells": [
  {
   "cell_type": "markdown",
   "metadata": {},
   "source": [
    "# PART 2:  Implementing ResNet Architecture"
   ]
  },
  {
   "cell_type": "markdown",
   "metadata": {},
   "source": [
    "## Extract data from zip file in ccr"
   ]
  },
  {
   "cell_type": "code",
   "execution_count": 15,
   "metadata": {
    "colab": {
     "base_uri": "https://localhost:8080/"
    },
    "id": "NFaekSO1l7Gs",
    "outputId": "4144c69f-3599-4fdd-e065-8c35725ff18e"
   },
   "outputs": [
    {
     "name": "stdout",
     "output_type": "stream",
     "text": [
      "Extraction complete.\n"
     ]
    }
   ],
   "source": [
    "import zipfile\n",
    "import os\n",
    "\n",
    "zip_file_path = 'cnn_dataset.zip'\n",
    "extracted_dir_path = os.path.join(os.path.dirname(zip_file_path), 'cnn_dataset')\n",
    "os.makedirs(extracted_dir_path, exist_ok=True)\n",
    "with zipfile.ZipFile(zip_file_path, 'r') as zip_ref:\n",
    "    zip_ref.extractall(extracted_dir_path)\n",
    "print(\"Extraction complete.\")"
   ]
  },
  {
   "cell_type": "markdown",
   "metadata": {},
   "source": [
    "## BASE MODEL : Without Optimization"
   ]
  },
  {
   "cell_type": "code",
   "execution_count": 16,
   "metadata": {
    "id": "FlMpBUNQm21n"
   },
   "outputs": [],
   "source": [
    "import torch\n",
    "import torchvision.datasets as datasets\n",
    "import torchvision.transforms as transforms\n",
    "import matplotlib.pyplot as plt\n",
    "import numpy as np\n",
    "from torch.utils.data import DataLoader, random_split\n",
    "from sklearn.model_selection import train_test_split\n",
    "import torch\n",
    "import torch.nn as nn\n",
    "import torch.optim as optim\n",
    "from torch.optim.lr_scheduler import ReduceLROnPlateau\n",
    "from torchvision import transforms\n",
    "import time\n",
    "import time\n",
    "import matplotlib.pyplot as plt\n",
    "from sklearn.metrics import confusion_matrix, precision_recall_fscore_support"
   ]
  },
  {
   "cell_type": "code",
   "execution_count": 17,
   "metadata": {
    "colab": {
     "base_uri": "https://localhost:8080/"
    },
    "id": "gJu10zTBm4YI",
    "outputId": "ef7e66f0-2118-4fef-fb2a-75d79d4d95bb"
   },
   "outputs": [
    {
     "data": {
      "text/plain": [
       "Dataset ImageFolder\n",
       "    Number of datapoints: 30000\n",
       "    Root location: cnn_dataset\n",
       "    StandardTransform\n",
       "Transform: Compose(\n",
       "               Resize(size=(224, 224), interpolation=bilinear, max_size=None, antialias=warn)\n",
       "               ToTensor()\n",
       "               Normalize(mean=[0.485, 0.456, 0.406], std=[0.229, 0.224, 0.225])\n",
       "           )"
      ]
     },
     "execution_count": 17,
     "metadata": {},
     "output_type": "execute_result"
    }
   ],
   "source": [
    "# Define transformations\n",
    "image_transformation = transforms.Compose([\n",
    "    transforms.Resize((224, 224)),\n",
    "    transforms.ToTensor(),\n",
    "    transforms.Normalize(mean=[0.485, 0.456, 0.406], std=[0.229, 0.224, 0.225])\n",
    "])\n",
    "\n",
    "image_dataset = datasets.ImageFolder(root='cnn_dataset', transform=image_transformation)\n",
    "image_dataset"
   ]
  },
  {
   "cell_type": "code",
   "execution_count": 18,
   "metadata": {
    "colab": {
     "base_uri": "https://localhost:8080/"
    },
    "id": "P8fhfUUdm5mv",
    "outputId": "ef5288fb-b266-42dd-e505-23f8d928750f"
   },
   "outputs": [
    {
     "name": "stdout",
     "output_type": "stream",
     "text": [
      "Number of images available:  30000\n",
      "Number of classes:  3\n"
     ]
    }
   ],
   "source": [
    "# Dataset Information\n",
    "print(\"Number of images available: \", len(image_dataset))\n",
    "num_classes = len(image_dataset.classes)\n",
    "print(\"Number of classes: \", num_classes)"
   ]
  },
  {
   "cell_type": "code",
   "execution_count": 19,
   "metadata": {
    "colab": {
     "base_uri": "https://localhost:8080/"
    },
    "id": "TmATXdHVm7SO",
    "outputId": "95c8ce28-35b1-423d-d841-0578cc578e73"
   },
   "outputs": [
    {
     "name": "stdout",
     "output_type": "stream",
     "text": [
      "Size of training dataset: 21000\n",
      "Size of validation dataset: 4500\n",
      "Size of testing dataset: 4500\n"
     ]
    }
   ],
   "source": [
    "# Convert targets to categorical values\n",
    "image_dataset.targets = torch.tensor(image_dataset.targets)\n",
    "\n",
    "# Split dataset\n",
    "train_ratio = 0.7\n",
    "val_ratio = 0.15\n",
    "test_ratio = 0.15\n",
    "\n",
    "train_size = int(train_ratio * len(image_dataset))\n",
    "val_size = int(val_ratio * len(image_dataset))\n",
    "test_size = len(image_dataset) - train_size - val_size\n",
    "\n",
    "train_dataset, val_dataset, test_dataset = random_split(image_dataset, [train_size, val_size, test_size])\n",
    "\n",
    "batch_size = 32\n",
    "train_loader = DataLoader(train_dataset, batch_size=batch_size, shuffle=True)\n",
    "val_loader = DataLoader(val_dataset, batch_size=batch_size, shuffle=False)\n",
    "test_loader = DataLoader(test_dataset, batch_size=batch_size, shuffle=False)\n",
    "\n",
    "# Print sizes of each dataset\n",
    "print(\"Size of training dataset:\", len(train_dataset))\n",
    "print(\"Size of validation dataset:\", len(val_dataset))\n",
    "print(\"Size of testing dataset:\", len(test_dataset))"
   ]
  },
  {
   "cell_type": "code",
   "execution_count": 20,
   "metadata": {
    "id": "_u1lsgj7m8mo"
   },
   "outputs": [],
   "source": [
    "# Basic residual block\n",
    "class BasicBlock(nn.Module):\n",
    "    expansion = 1\n",
    "\n",
    "    def __init__(self, in_channels, out_channels, stride=1):\n",
    "        super(BasicBlock, self).__init__()\n",
    "        self.conv1 = nn.Conv2d(in_channels, out_channels, kernel_size=3, stride=stride, padding=1, bias=False)\n",
    "        self.bn1 = nn.BatchNorm2d(out_channels)\n",
    "        self.relu = nn.ReLU(inplace=True)\n",
    "        self.conv2 = nn.Conv2d(out_channels, out_channels, kernel_size=3, stride=1, padding=1, bias=False)\n",
    "        self.bn2 = nn.BatchNorm2d(out_channels)\n",
    "        self.stride = stride\n",
    "\n",
    "        # Shortcut connection\n",
    "        self.shortcut = nn.Sequential()\n",
    "        if stride != 1 or in_channels != out_channels:\n",
    "            self.shortcut = nn.Sequential(\n",
    "                nn.Conv2d(in_channels, out_channels, kernel_size=1, stride=stride, bias=False),\n",
    "                nn.BatchNorm2d(out_channels)\n",
    "            )\n",
    "\n",
    "    def forward(self, x):\n",
    "        out = self.conv1(x)\n",
    "        out = self.bn1(out)\n",
    "        out = self.relu(out)\n",
    "        out = self.conv2(out)\n",
    "        out = self.bn2(out)\n",
    "\n",
    "        # Shortcut connection\n",
    "        out += self.shortcut(x)\n",
    "        out = self.relu(out)\n",
    "        return out"
   ]
  },
  {
   "cell_type": "code",
   "execution_count": 21,
   "metadata": {
    "colab": {
     "base_uri": "https://localhost:8080/"
    },
    "id": "wIv6DeO1nGlo",
    "outputId": "9c3dcce0-c94c-44d6-a134-86502b550551"
   },
   "outputs": [
    {
     "data": {
      "text/plain": [
       "ResNet18(\n",
       "  (conv1): Conv2d(3, 64, kernel_size=(7, 7), stride=(2, 2), padding=(3, 3), bias=False)\n",
       "  (bn1): BatchNorm2d(64, eps=1e-05, momentum=0.1, affine=True, track_running_stats=True)\n",
       "  (relu): ReLU(inplace=True)\n",
       "  (maxpool): MaxPool2d(kernel_size=3, stride=2, padding=1, dilation=1, ceil_mode=False)\n",
       "  (layer1): Sequential(\n",
       "    (0): BasicBlock(\n",
       "      (conv1): Conv2d(64, 64, kernel_size=(3, 3), stride=(1, 1), padding=(1, 1), bias=False)\n",
       "      (bn1): BatchNorm2d(64, eps=1e-05, momentum=0.1, affine=True, track_running_stats=True)\n",
       "      (relu): ReLU(inplace=True)\n",
       "      (conv2): Conv2d(64, 64, kernel_size=(3, 3), stride=(1, 1), padding=(1, 1), bias=False)\n",
       "      (bn2): BatchNorm2d(64, eps=1e-05, momentum=0.1, affine=True, track_running_stats=True)\n",
       "      (shortcut): Sequential()\n",
       "    )\n",
       "    (1): BasicBlock(\n",
       "      (conv1): Conv2d(64, 64, kernel_size=(3, 3), stride=(1, 1), padding=(1, 1), bias=False)\n",
       "      (bn1): BatchNorm2d(64, eps=1e-05, momentum=0.1, affine=True, track_running_stats=True)\n",
       "      (relu): ReLU(inplace=True)\n",
       "      (conv2): Conv2d(64, 64, kernel_size=(3, 3), stride=(1, 1), padding=(1, 1), bias=False)\n",
       "      (bn2): BatchNorm2d(64, eps=1e-05, momentum=0.1, affine=True, track_running_stats=True)\n",
       "      (shortcut): Sequential()\n",
       "    )\n",
       "  )\n",
       "  (layer2): Sequential(\n",
       "    (0): BasicBlock(\n",
       "      (conv1): Conv2d(64, 128, kernel_size=(3, 3), stride=(2, 2), padding=(1, 1), bias=False)\n",
       "      (bn1): BatchNorm2d(128, eps=1e-05, momentum=0.1, affine=True, track_running_stats=True)\n",
       "      (relu): ReLU(inplace=True)\n",
       "      (conv2): Conv2d(128, 128, kernel_size=(3, 3), stride=(1, 1), padding=(1, 1), bias=False)\n",
       "      (bn2): BatchNorm2d(128, eps=1e-05, momentum=0.1, affine=True, track_running_stats=True)\n",
       "      (shortcut): Sequential(\n",
       "        (0): Conv2d(64, 128, kernel_size=(1, 1), stride=(2, 2), bias=False)\n",
       "        (1): BatchNorm2d(128, eps=1e-05, momentum=0.1, affine=True, track_running_stats=True)\n",
       "      )\n",
       "    )\n",
       "    (1): BasicBlock(\n",
       "      (conv1): Conv2d(128, 128, kernel_size=(3, 3), stride=(1, 1), padding=(1, 1), bias=False)\n",
       "      (bn1): BatchNorm2d(128, eps=1e-05, momentum=0.1, affine=True, track_running_stats=True)\n",
       "      (relu): ReLU(inplace=True)\n",
       "      (conv2): Conv2d(128, 128, kernel_size=(3, 3), stride=(1, 1), padding=(1, 1), bias=False)\n",
       "      (bn2): BatchNorm2d(128, eps=1e-05, momentum=0.1, affine=True, track_running_stats=True)\n",
       "      (shortcut): Sequential()\n",
       "    )\n",
       "  )\n",
       "  (layer3): Sequential(\n",
       "    (0): BasicBlock(\n",
       "      (conv1): Conv2d(128, 256, kernel_size=(3, 3), stride=(2, 2), padding=(1, 1), bias=False)\n",
       "      (bn1): BatchNorm2d(256, eps=1e-05, momentum=0.1, affine=True, track_running_stats=True)\n",
       "      (relu): ReLU(inplace=True)\n",
       "      (conv2): Conv2d(256, 256, kernel_size=(3, 3), stride=(1, 1), padding=(1, 1), bias=False)\n",
       "      (bn2): BatchNorm2d(256, eps=1e-05, momentum=0.1, affine=True, track_running_stats=True)\n",
       "      (shortcut): Sequential(\n",
       "        (0): Conv2d(128, 256, kernel_size=(1, 1), stride=(2, 2), bias=False)\n",
       "        (1): BatchNorm2d(256, eps=1e-05, momentum=0.1, affine=True, track_running_stats=True)\n",
       "      )\n",
       "    )\n",
       "    (1): BasicBlock(\n",
       "      (conv1): Conv2d(256, 256, kernel_size=(3, 3), stride=(1, 1), padding=(1, 1), bias=False)\n",
       "      (bn1): BatchNorm2d(256, eps=1e-05, momentum=0.1, affine=True, track_running_stats=True)\n",
       "      (relu): ReLU(inplace=True)\n",
       "      (conv2): Conv2d(256, 256, kernel_size=(3, 3), stride=(1, 1), padding=(1, 1), bias=False)\n",
       "      (bn2): BatchNorm2d(256, eps=1e-05, momentum=0.1, affine=True, track_running_stats=True)\n",
       "      (shortcut): Sequential()\n",
       "    )\n",
       "  )\n",
       "  (layer4): Sequential(\n",
       "    (0): BasicBlock(\n",
       "      (conv1): Conv2d(256, 512, kernel_size=(3, 3), stride=(2, 2), padding=(1, 1), bias=False)\n",
       "      (bn1): BatchNorm2d(512, eps=1e-05, momentum=0.1, affine=True, track_running_stats=True)\n",
       "      (relu): ReLU(inplace=True)\n",
       "      (conv2): Conv2d(512, 512, kernel_size=(3, 3), stride=(1, 1), padding=(1, 1), bias=False)\n",
       "      (bn2): BatchNorm2d(512, eps=1e-05, momentum=0.1, affine=True, track_running_stats=True)\n",
       "      (shortcut): Sequential(\n",
       "        (0): Conv2d(256, 512, kernel_size=(1, 1), stride=(2, 2), bias=False)\n",
       "        (1): BatchNorm2d(512, eps=1e-05, momentum=0.1, affine=True, track_running_stats=True)\n",
       "      )\n",
       "    )\n",
       "    (1): BasicBlock(\n",
       "      (conv1): Conv2d(512, 512, kernel_size=(3, 3), stride=(1, 1), padding=(1, 1), bias=False)\n",
       "      (bn1): BatchNorm2d(512, eps=1e-05, momentum=0.1, affine=True, track_running_stats=True)\n",
       "      (relu): ReLU(inplace=True)\n",
       "      (conv2): Conv2d(512, 512, kernel_size=(3, 3), stride=(1, 1), padding=(1, 1), bias=False)\n",
       "      (bn2): BatchNorm2d(512, eps=1e-05, momentum=0.1, affine=True, track_running_stats=True)\n",
       "      (shortcut): Sequential()\n",
       "    )\n",
       "  )\n",
       "  (avgpool): AdaptiveAvgPool2d(output_size=(1, 1))\n",
       "  (fc): Linear(in_features=512, out_features=1000, bias=True)\n",
       ")"
      ]
     },
     "execution_count": 21,
     "metadata": {},
     "output_type": "execute_result"
    }
   ],
   "source": [
    "# ResNet-18 architecture\n",
    "class ResNet18(nn.Module):\n",
    "    def __init__(self, block, num_blocks, num_classes=1000):\n",
    "        super(ResNet18, self).__init__()\n",
    "        self.in_channels = 64\n",
    "        self.conv1 = nn.Conv2d(3, 64, kernel_size=7, stride=2, padding=3, bias=False)\n",
    "        self.bn1 = nn.BatchNorm2d(64)\n",
    "        self.relu = nn.ReLU(inplace=True)\n",
    "        self.maxpool = nn.MaxPool2d(kernel_size=3, stride=2, padding=1)\n",
    "\n",
    "        self.layer1 = self._make_layer(block, 64, num_blocks[0], stride=1)\n",
    "        self.layer2 = self._make_layer(block, 128, num_blocks[1], stride=2)\n",
    "        self.layer3 = self._make_layer(block, 256, num_blocks[2], stride=2)\n",
    "        self.layer4 = self._make_layer(block, 512, num_blocks[3], stride=2)\n",
    "\n",
    "        self.avgpool = nn.AdaptiveAvgPool2d((1, 1))\n",
    "        self.fc = nn.Linear(512 * block.expansion, num_classes)\n",
    "\n",
    "    def _make_layer(self, block, out_channels, num_blocks, stride):\n",
    "        layers = []\n",
    "        layers.append(block(self.in_channels, out_channels, stride))\n",
    "        self.in_channels = out_channels * block.expansion\n",
    "        for _ in range(1, num_blocks):\n",
    "            layers.append(block(self.in_channels, out_channels))\n",
    "        return nn.Sequential(*layers)\n",
    "\n",
    "    def forward(self, x):\n",
    "        out = self.conv1(x)\n",
    "        out = self.bn1(out)\n",
    "        out = self.relu(out)\n",
    "        out = self.maxpool(out)\n",
    "\n",
    "        out = self.layer1(out)\n",
    "        out = self.layer2(out)\n",
    "        out = self.layer3(out)\n",
    "        out = self.layer4(out)\n",
    "\n",
    "        out = self.avgpool(out)\n",
    "        out = torch.flatten(out, 1)\n",
    "        out = self.fc(out)\n",
    "        return out\n",
    "\n",
    "def ResNet18_custom():\n",
    "    return ResNet18(BasicBlock, [2, 2, 2, 2])\n",
    "model = ResNet18_custom()\n",
    "model"
   ]
  },
  {
   "cell_type": "code",
   "execution_count": 22,
   "metadata": {
    "id": "7MmCQvKmnHwk"
   },
   "outputs": [],
   "source": [
    "# Data augmentation\n",
    "train_transform = transforms.Compose([\n",
    "    transforms.RandomResizedCrop(224),\n",
    "    transforms.RandomHorizontalFlip(),\n",
    "    transforms.ToTensor(),\n",
    "    transforms.Normalize(mean=[0.485, 0.456, 0.406], std=[0.229, 0.224, 0.225])\n",
    "])\n",
    "train_dataset.dataset.transform = train_transform"
   ]
  },
  {
   "cell_type": "code",
   "execution_count": 23,
   "metadata": {
    "id": "I2YBmXfMnJ7U"
   },
   "outputs": [],
   "source": [
    "# Optimizer and loss function\n",
    "optimizer = optim.Adam(model.parameters(), lr=0.001)\n",
    "criterion = nn.CrossEntropyLoss()"
   ]
  },
  {
   "cell_type": "code",
   "execution_count": 24,
   "metadata": {
    "colab": {
     "base_uri": "https://localhost:8080/"
    },
    "id": "utJQhVm-nLAs",
    "outputId": "a262a329-02be-4bd2-fec5-ea79f2068341"
   },
   "outputs": [
    {
     "name": "stdout",
     "output_type": "stream",
     "text": [
      "Epoch 1/5, Total images trained: 960, Training Accuracy: 60.52%\n",
      "Epoch 1/5, Total images trained: 1984, Training Accuracy: 64.62%\n",
      "Epoch 1/5, Total images trained: 2944, Training Accuracy: 65.52%\n",
      "Epoch 1/5, Total images trained: 3968, Training Accuracy: 67.41%\n",
      "Epoch 1/5, Total images trained: 4992, Training Accuracy: 67.67%\n",
      "Epoch 1/5, Total images trained: 6016, Training Accuracy: 68.27%\n",
      "Epoch 1/5, Total images trained: 7072, Training Accuracy: 68.92%\n",
      "Epoch 1/5, Total images trained: 8064, Training Accuracy: 69.39%\n",
      "Epoch 1/5, Total images trained: 9120, Training Accuracy: 69.98%\n",
      "Epoch 1/5, Total images trained: 10112, Training Accuracy: 70.48%\n",
      "Epoch 1/5, Total images trained: 11168, Training Accuracy: 70.73%\n",
      "Epoch 1/5, Total images trained: 12192, Training Accuracy: 71.01%\n",
      "Epoch 1/5, Total images trained: 13216, Training Accuracy: 71.13%\n",
      "Epoch 1/5, Total images trained: 14272, Training Accuracy: 71.21%\n",
      "Epoch 1/5, Total images trained: 15136, Training Accuracy: 71.25%\n",
      "Epoch 1/5, Total images trained: 16192, Training Accuracy: 71.45%\n",
      "Epoch 1/5, Total images trained: 17216, Training Accuracy: 71.66%\n",
      "Epoch 1/5, Total images trained: 18240, Training Accuracy: 71.88%\n",
      "Epoch 1/5, Total images trained: 19296, Training Accuracy: 72.19%\n",
      "Epoch 1/5, Total images trained: 20288, Training Accuracy: 72.32%\n",
      "Epoch 1/5, Training Loss: 0.6863, Training Accuracy: 72.60%, Validation Loss: 0.5240, Validation Accuracy: 79.20%\n",
      "Epoch 2/5, Total images trained: 32, Training Accuracy: 71.88%\n",
      "Epoch 2/5, Total images trained: 1024, Training Accuracy: 76.27%\n",
      "Epoch 2/5, Total images trained: 2080, Training Accuracy: 76.73%\n",
      "Epoch 2/5, Total images trained: 3104, Training Accuracy: 77.87%\n",
      "Epoch 2/5, Total images trained: 4128, Training Accuracy: 76.96%\n",
      "Epoch 2/5, Total images trained: 5184, Training Accuracy: 76.89%\n",
      "Epoch 2/5, Total images trained: 6176, Training Accuracy: 77.33%\n",
      "Epoch 2/5, Total images trained: 7232, Training Accuracy: 77.18%\n",
      "Epoch 2/5, Total images trained: 8224, Training Accuracy: 77.19%\n",
      "Epoch 2/5, Total images trained: 9280, Training Accuracy: 77.44%\n",
      "Epoch 2/5, Total images trained: 10304, Training Accuracy: 77.12%\n",
      "Epoch 2/5, Total images trained: 11328, Training Accuracy: 77.17%\n",
      "Epoch 2/5, Total images trained: 12384, Training Accuracy: 77.43%\n",
      "Epoch 2/5, Total images trained: 13120, Training Accuracy: 77.51%\n",
      "Epoch 2/5, Total images trained: 14176, Training Accuracy: 77.78%\n",
      "Epoch 2/5, Total images trained: 15168, Training Accuracy: 77.83%\n",
      "Epoch 2/5, Total images trained: 16224, Training Accuracy: 77.87%\n",
      "Epoch 2/5, Total images trained: 17280, Training Accuracy: 77.89%\n",
      "Epoch 2/5, Total images trained: 18272, Training Accuracy: 78.05%\n",
      "Epoch 2/5, Total images trained: 19328, Training Accuracy: 78.08%\n",
      "Epoch 2/5, Total images trained: 20320, Training Accuracy: 78.16%\n",
      "Epoch 2/5, Training Loss: 0.5370, Training Accuracy: 78.15%, Validation Loss: 0.5243, Validation Accuracy: 80.47%\n",
      "Epoch 3/5, Total images trained: 32, Training Accuracy: 81.25%\n",
      "Epoch 3/5, Total images trained: 1056, Training Accuracy: 77.56%\n",
      "Epoch 3/5, Total images trained: 2080, Training Accuracy: 79.52%\n",
      "Epoch 3/5, Total images trained: 3136, Training Accuracy: 80.36%\n",
      "Epoch 3/5, Total images trained: 4128, Training Accuracy: 80.69%\n",
      "Epoch 3/5, Total images trained: 5184, Training Accuracy: 80.34%\n",
      "Epoch 3/5, Total images trained: 6176, Training Accuracy: 80.68%\n",
      "Epoch 3/5, Total images trained: 7232, Training Accuracy: 80.81%\n",
      "Epoch 3/5, Total images trained: 8256, Training Accuracy: 80.91%\n",
      "Epoch 3/5, Total images trained: 9280, Training Accuracy: 80.93%\n",
      "Epoch 3/5, Total images trained: 10336, Training Accuracy: 80.89%\n",
      "Epoch 3/5, Total images trained: 11328, Training Accuracy: 80.87%\n",
      "Epoch 3/5, Total images trained: 12384, Training Accuracy: 80.93%\n",
      "Epoch 3/5, Total images trained: 13376, Training Accuracy: 80.84%\n",
      "Epoch 3/5, Total images trained: 14432, Training Accuracy: 80.89%\n",
      "Epoch 3/5, Total images trained: 15456, Training Accuracy: 80.97%\n",
      "Epoch 3/5, Total images trained: 16480, Training Accuracy: 81.07%\n",
      "Epoch 3/5, Total images trained: 17536, Training Accuracy: 81.01%\n",
      "Epoch 3/5, Total images trained: 18528, Training Accuracy: 81.09%\n",
      "Epoch 3/5, Total images trained: 19520, Training Accuracy: 81.14%\n",
      "Epoch 3/5, Total images trained: 20544, Training Accuracy: 81.19%\n",
      "Epoch 3/5, Training Loss: 0.4863, Training Accuracy: 81.18%, Validation Loss: 0.4579, Validation Accuracy: 82.67%\n",
      "Epoch 4/5, Total images trained: 32, Training Accuracy: 90.62%\n",
      "Epoch 4/5, Total images trained: 1088, Training Accuracy: 81.99%\n",
      "Epoch 4/5, Total images trained: 2080, Training Accuracy: 82.31%\n",
      "Epoch 4/5, Total images trained: 3136, Training Accuracy: 82.14%\n",
      "Epoch 4/5, Total images trained: 4128, Training Accuracy: 81.54%\n",
      "Epoch 4/5, Total images trained: 5152, Training Accuracy: 81.29%\n",
      "Epoch 4/5, Total images trained: 6208, Training Accuracy: 81.83%\n",
      "Epoch 4/5, Total images trained: 7200, Training Accuracy: 82.03%\n",
      "Epoch 4/5, Total images trained: 8256, Training Accuracy: 81.99%\n",
      "Epoch 4/5, Total images trained: 9248, Training Accuracy: 82.24%\n",
      "Epoch 4/5, Total images trained: 10304, Training Accuracy: 82.30%\n",
      "Epoch 4/5, Total images trained: 11328, Training Accuracy: 82.26%\n",
      "Epoch 4/5, Total images trained: 12352, Training Accuracy: 82.33%\n",
      "Epoch 4/5, Total images trained: 13408, Training Accuracy: 82.24%\n",
      "Epoch 4/5, Total images trained: 14400, Training Accuracy: 82.38%\n",
      "Epoch 4/5, Total images trained: 15456, Training Accuracy: 82.56%\n",
      "Epoch 4/5, Total images trained: 16448, Training Accuracy: 82.55%\n",
      "Epoch 4/5, Total images trained: 17504, Training Accuracy: 82.61%\n",
      "Epoch 4/5, Total images trained: 18560, Training Accuracy: 82.59%\n",
      "Epoch 4/5, Total images trained: 19584, Training Accuracy: 82.73%\n",
      "Epoch 4/5, Total images trained: 20640, Training Accuracy: 82.65%\n",
      "Epoch 4/5, Training Loss: 0.4467, Training Accuracy: 82.61%, Validation Loss: 0.4556, Validation Accuracy: 82.69%\n",
      "Epoch 5/5, Total images trained: 32, Training Accuracy: 90.62%\n",
      "Epoch 5/5, Total images trained: 1088, Training Accuracy: 83.09%\n",
      "Epoch 5/5, Total images trained: 2112, Training Accuracy: 83.10%\n",
      "Epoch 5/5, Total images trained: 3136, Training Accuracy: 82.97%\n",
      "Epoch 5/5, Total images trained: 4192, Training Accuracy: 82.99%\n",
      "Epoch 5/5, Total images trained: 5184, Training Accuracy: 83.56%\n",
      "Epoch 5/5, Total images trained: 6240, Training Accuracy: 83.72%\n",
      "Epoch 5/5, Total images trained: 7232, Training Accuracy: 83.61%\n",
      "Epoch 5/5, Total images trained: 8288, Training Accuracy: 83.77%\n",
      "Epoch 5/5, Total images trained: 9344, Training Accuracy: 83.68%\n",
      "Epoch 5/5, Total images trained: 10368, Training Accuracy: 83.85%\n",
      "Epoch 5/5, Total images trained: 11424, Training Accuracy: 83.90%\n",
      "Epoch 5/5, Total images trained: 12416, Training Accuracy: 83.89%\n",
      "Epoch 5/5, Total images trained: 13472, Training Accuracy: 84.00%\n",
      "Epoch 5/5, Total images trained: 14464, Training Accuracy: 84.03%\n",
      "Epoch 5/5, Total images trained: 15520, Training Accuracy: 84.10%\n",
      "Epoch 5/5, Total images trained: 16576, Training Accuracy: 84.20%\n",
      "Epoch 5/5, Total images trained: 17568, Training Accuracy: 84.21%\n",
      "Epoch 5/5, Total images trained: 18624, Training Accuracy: 84.26%\n",
      "Epoch 5/5, Total images trained: 19616, Training Accuracy: 84.42%\n",
      "Epoch 5/5, Total images trained: 20672, Training Accuracy: 84.40%\n",
      "Epoch 5/5, Training Loss: 0.4115, Training Accuracy: 84.29%, Validation Loss: 0.4898, Validation Accuracy: 81.44%\n"
     ]
    }
   ],
   "source": [
    "from torch.nn.parallel import DataParallel\n",
    "\n",
    "device = torch.device(\"cuda\" if torch.cuda.is_available() else \"cpu\")\n",
    "model = model.to(device)\n",
    "\n",
    "# Wrap the model with DataParallel if multiple GPUs are available\n",
    "if torch.cuda.device_count() > 1:\n",
    "    print(\"Using\", torch.cuda.device_count(), \"GPUs!\")\n",
    "    model = DataParallel(model)\n",
    "\n",
    "train_losses = []\n",
    "val_losses = []\n",
    "train_accuracies = []\n",
    "val_accuracies = []\n",
    "\n",
    "# Train the model\n",
    "num_epochs = 5\n",
    "best_val_loss = float('inf')\n",
    "patience = 0\n",
    "\n",
    "start_time = time.time()\n",
    "for epoch in range(num_epochs):\n",
    "    model.train()\n",
    "    train_loss = 0.0\n",
    "    correct_train = 0\n",
    "    total_train = 0\n",
    "    for images, labels in train_loader:\n",
    "        images, labels = images.to(device), labels.to(device)\n",
    "        optimizer.zero_grad()\n",
    "        outputs = model(images)\n",
    "        loss = criterion(outputs, labels)\n",
    "        loss.backward()\n",
    "        optimizer.step()\n",
    "        train_loss += loss.item() * images.size(0)\n",
    "\n",
    "        _, predicted = torch.max(outputs, 1)\n",
    "        total_train += labels.size(0)\n",
    "        correct_train += (predicted == labels).sum().item()\n",
    "\n",
    "        current_time = time.time()\n",
    "        if current_time - start_time >= 5: \n",
    "            print(f\"Epoch {epoch + 1}/{num_epochs}, \"\n",
    "                  f\"Total images trained: {total_train}, \"\n",
    "                  f\"Training Accuracy: {100 * correct_train / total_train:.2f}%\")\n",
    "            start_time = current_time \n",
    "\n",
    "    train_loss /= len(train_loader.dataset)\n",
    "    train_accuracy = correct_train / total_train\n",
    "\n",
    "    # Validation of model\n",
    "    model.eval()\n",
    "    val_loss = 0.0\n",
    "    correct_val = 0\n",
    "    total_val = 0\n",
    "    with torch.no_grad():\n",
    "        for images, labels in val_loader:\n",
    "            images, labels = images.to(device), labels.to(device)\n",
    "            outputs = model(images)\n",
    "            loss = criterion(outputs, labels)\n",
    "            val_loss += loss.item() * images.size(0)\n",
    "            _, predicted = torch.max(outputs, 1)\n",
    "            total_val += labels.size(0)\n",
    "            correct_val += (predicted == labels).sum().item()\n",
    "\n",
    "    val_loss /= len(val_loader.dataset)\n",
    "    val_accuracy = correct_val / total_val\n",
    "\n",
    "    print(f'Epoch {epoch + 1}/{num_epochs}, '\n",
    "          f'Training Loss: {train_loss:.4f}, '\n",
    "          f'Training Accuracy: {100 * train_accuracy:.2f}%, '\n",
    "          f'Validation Loss: {val_loss:.4f}, '\n",
    "          f'Validation Accuracy: {100 * val_accuracy:.2f}%')\n",
    "\n",
    "    train_losses.append(train_loss)\n",
    "    val_losses.append(val_loss)\n",
    "    train_accuracies.append(train_accuracy)\n",
    "    val_accuracies.append(val_accuracy)"
   ]
  },
  {
   "cell_type": "code",
   "execution_count": 25,
   "metadata": {
    "colab": {
     "base_uri": "https://localhost:8080/"
    },
    "id": "rEdUlo8zqXI8",
    "outputId": "7741a5ac-d2be-48b7-f088-92f6205b3c73"
   },
   "outputs": [
    {
     "name": "stdout",
     "output_type": "stream",
     "text": [
      "Trained model saved as 'best_base_model.pth'\n"
     ]
    }
   ],
   "source": [
    "# Save the model\n",
    "torch.save(model.state_dict(), 'best_base_model.pth')\n",
    "print(\"Trained model saved as 'best_base_model.pth'\")"
   ]
  },
  {
   "cell_type": "code",
   "execution_count": 26,
   "metadata": {
    "colab": {
     "base_uri": "https://localhost:8080/",
     "height": 487
    },
    "id": "6jE_LfrpnMGM",
    "outputId": "cefaece9-a212-4370-ab6c-f9d9b13c8254"
   },
   "outputs": [
    {
     "data": {
      "image/png": "[encoded data removed]",
      "text/plain": [
       "<Figure size 1000x500 with 1 Axes>"
      ]
     },
     "metadata": {},
     "output_type": "display_data"
    }
   ],
   "source": [
    "# Plot training and validation loss\n",
    "plt.figure(figsize=(10, 5))\n",
    "epochs = range(1, len(train_losses) + 1)\n",
    "plt.plot(epochs, train_losses, label='Training Loss')\n",
    "plt.plot(epochs, val_losses, label='Validation Loss')\n",
    "plt.xlabel('Epochs')\n",
    "plt.ylabel('Loss')\n",
    "plt.title('Training and Validation Loss')\n",
    "plt.legend()\n",
    "plt.xticks(epochs)\n",
    "plt.show()"
   ]
  },
  {
   "cell_type": "code",
   "execution_count": 27,
   "metadata": {
    "colab": {
     "base_uri": "https://localhost:8080/",
     "height": 487
    },
    "id": "jJndIcXLnVOw",
    "outputId": "d0ea117c-94b4-4e80-cefd-ada538e3c85b"
   },
   "outputs": [
    {
     "data": {
      "image/png": "[encoded data removed]",
      "text/plain": [
       "<Figure size 1000x500 with 1 Axes>"
      ]
     },
     "metadata": {},
     "output_type": "display_data"
    }
   ],
   "source": [
    "# Plot training and validation accuracy\n",
    "plt.figure(figsize=(10, 5))\n",
    "plt.plot(epochs, train_accuracies, label='Training Accuracy')\n",
    "plt.plot(epochs, val_accuracies, label='Validation Accuracy')\n",
    "plt.xlabel('Epochs')\n",
    "plt.ylabel('Accuracy')\n",
    "plt.title('Training and Validation Accuracy')\n",
    "plt.legend()\n",
    "plt.xticks(epochs)\n",
    "plt.show()"
   ]
  },
  {
   "cell_type": "code",
   "execution_count": 28,
   "metadata": {
    "colab": {
     "base_uri": "https://localhost:8080/"
    },
    "id": "34E7nBdDnVnN",
    "outputId": "5e7c2405-9bc3-40b6-8857-78c28c322562"
   },
   "outputs": [
    {
     "name": "stdout",
     "output_type": "stream",
     "text": [
      "Test Accuracy: 81.40%\n",
      "Test Loss: 0.5039\n"
     ]
    }
   ],
   "source": [
    "# Testing loop\n",
    "correct_test = 0\n",
    "total_test = 0\n",
    "test_loss = 0.0  \n",
    "\n",
    "model.eval() \n",
    "with torch.no_grad():\n",
    "    for images, labels in test_loader:\n",
    "        images, labels = images.to(device), labels.to(device)\n",
    "        outputs = model(images)\n",
    "        _, predicted = torch.max(outputs, 1)\n",
    "        total_test += labels.size(0)\n",
    "        correct_test += (predicted == labels).sum().item()\n",
    "\n",
    "        loss = criterion(outputs, labels)\n",
    "        test_loss += loss.item() * images.size(0)\n",
    "\n",
    "test_loss /= len(test_loader.dataset)\n",
    "\n",
    "test_accuracy = correct_test / total_test\n",
    "print(f'Test Accuracy: {100 * test_accuracy:.2f}%')\n",
    "print(f'Test Loss: {test_loss:.4f}')"
   ]
  },
  {
   "cell_type": "code",
   "execution_count": 31,
   "metadata": {
    "colab": {
     "base_uri": "https://localhost:8080/"
    },
    "id": "9QYUmbhHnWx8",
    "outputId": "3bb05116-a06b-460c-afd7-c7fcbc69d473"
   },
   "outputs": [
    {
     "name": "stdout",
     "output_type": "stream",
     "text": [
      "Confusion Matrix:\n",
      "[[1406   94   31]\n",
      " [ 299 1143   10]\n",
      " [ 298  143 1076]]\n",
      "\n",
      "Evaluation Metrics:\n",
      "Precision: 0.8308\n",
      "Recall: 0.8056\n",
      "F1 Score: 0.8066\n"
     ]
    }
   ],
   "source": [
    "# Confusion matrix  \n",
    "# Precision, recall, and F1 score\n",
    "true_labels = []\n",
    "predicted_labels = []\n",
    "\n",
    "model.eval()\n",
    "with torch.no_grad():\n",
    "    for images, labels in test_loader:\n",
    "        images, labels = images.to(device), labels.to(device)\n",
    "        outputs = model(images)\n",
    "        _, predicted = torch.max(outputs, 1)\n",
    "        true_labels.extend(labels.cpu().numpy())\n",
    "        predicted_labels.extend(predicted.cpu().numpy())\n",
    "\n",
    "\n",
    "conf_matrix = confusion_matrix(true_labels, predicted_labels)\n",
    "\n",
    "precision, recall, f1_score, _ = precision_recall_fscore_support(true_labels, predicted_labels, average='weighted')\n",
    "\n",
    "# Print confusion matrix\n",
    "print(\"Confusion Matrix:\")\n",
    "print(conf_matrix)\n",
    "\n",
    "# Print evaluation metrics\n",
    "print(\"\\nEvaluation Metrics:\")\n",
    "print(f\"Precision: {precision:.4f}\")\n",
    "print(f\"Recall: {recall:.4f}\")\n",
    "print(f\"F1 Score: {f1_score:.4f}\")"
   ]
  },
  {
   "cell_type": "code",
   "execution_count": 32,
   "metadata": {
    "colab": {
     "base_uri": "https://localhost:8080/",
     "height": 540
    },
    "id": "sq1B1hh7nX-w",
    "outputId": "5b317e90-8171-4733-8b35-bb13996bcfc7"
   },
   "outputs": [
    {
     "data": {
      "image/png": "[encoded data removed]",
      "text/plain": [
       "<Figure size 800x600 with 2 Axes>"
      ]
     },
     "metadata": {},
     "output_type": "display_data"
    }
   ],
   "source": [
    "import seaborn as sns\n",
    "import matplotlib.pyplot as plt\n",
    "from sklearn.metrics import confusion_matrix, precision_recall_fscore_support\n",
    "# Plot confusion matrix without labels\n",
    "plt.figure(figsize=(8, 6))\n",
    "sns.heatmap(conf_matrix, annot=True, fmt=\"d\", cmap=\"Blues\", xticklabels=False, yticklabels=False)\n",
    "plt.xlabel(\"Predicted Labels\")\n",
    "plt.ylabel(\"True Labels\")\n",
    "plt.title(\"Confusion Matrix\")\n",
    "plt.show()"
   ]
  },
  {
   "cell_type": "markdown",
   "metadata": {},
   "source": [
    "## OPTIMIZED MODEL: Regularization, Dropout and Early stopping"
   ]
  },
  {
   "cell_type": "code",
   "execution_count": 33,
   "metadata": {
    "id": "qV88HgGenZYb"
   },
   "outputs": [],
   "source": [
    "import torch\n",
    "import torchvision.datasets as datasets\n",
    "import torchvision.transforms as transforms\n",
    "import matplotlib.pyplot as plt\n",
    "import numpy as np\n",
    "from sklearn.metrics import confusion_matrix, precision_recall_fscore_support\n",
    "from torch.utils.data import DataLoader, random_split\n",
    "from sklearn.model_selection import train_test_split\n",
    "import torch.optim as optim\n",
    "from torch.optim.lr_scheduler import ReduceLROnPlateau\n",
    "from torchvision import transforms\n",
    "import torch\n",
    "import torch.nn as nn\n",
    "import time\n",
    "import time\n",
    "import matplotlib.pyplot as plt"
   ]
  },
  {
   "cell_type": "code",
   "execution_count": 34,
   "metadata": {
    "id": "FKM_ZKyQnavn"
   },
   "outputs": [],
   "source": [
    "# Transformations\n",
    "image_transformation = transforms.Compose([\n",
    "    transforms.Resize((224, 224)),\n",
    "    transforms.ToTensor(),\n",
    "    transforms.Normalize(mean=[0.485, 0.456, 0.406], std=[0.229, 0.224, 0.225])\n",
    "])\n",
    "\n",
    "image_dataset = datasets.ImageFolder(root='cnn_dataset', transform=image_transformation)"
   ]
  },
  {
   "cell_type": "code",
   "execution_count": 35,
   "metadata": {
    "colab": {
     "base_uri": "https://localhost:8080/"
    },
    "id": "2EMdQYz0nbw_",
    "outputId": "599326ce-c4e1-48af-b452-eb794f9720b7"
   },
   "outputs": [
    {
     "name": "stdout",
     "output_type": "stream",
     "text": [
      "Number of images available:  30000\n",
      "Number of classes:  3\n"
     ]
    }
   ],
   "source": [
    "# Dataset Information\n",
    "print(\"Number of images available: \", len(image_dataset))\n",
    "num_classes = len(image_dataset.classes)\n",
    "print(\"Number of classes: \", num_classes)"
   ]
  },
  {
   "cell_type": "code",
   "execution_count": 36,
   "metadata": {
    "colab": {
     "base_uri": "https://localhost:8080/"
    },
    "id": "BjGGoZLfncwH",
    "outputId": "4b4f8e41-e37e-4888-afb1-479f27a6ecfd"
   },
   "outputs": [
    {
     "name": "stdout",
     "output_type": "stream",
     "text": [
      "Size of training dataset: 21000\n",
      "Size of validation dataset: 4500\n",
      "Size of testing dataset: 4500\n"
     ]
    }
   ],
   "source": [
    "# Convert targets to categorical values\n",
    "image_dataset.targets = torch.tensor(image_dataset.targets)\n",
    "\n",
    "# Split dataset\n",
    "train_ratio = 0.7\n",
    "val_ratio = 0.15\n",
    "test_ratio = 0.15\n",
    "\n",
    "train_size = int(train_ratio * len(image_dataset))\n",
    "val_size = int(val_ratio * len(image_dataset))\n",
    "test_size = len(image_dataset) - train_size - val_size\n",
    "\n",
    "train_dataset, val_dataset, test_dataset = random_split(image_dataset, [train_size, val_size, test_size])\n",
    "\n",
    "batch_size = 32\n",
    "train_loader = DataLoader(train_dataset, batch_size=batch_size, shuffle=True)\n",
    "val_loader = DataLoader(val_dataset, batch_size=batch_size, shuffle=False)\n",
    "test_loader = DataLoader(test_dataset, batch_size=batch_size, shuffle=False)\n",
    "\n",
    "# Print sizes of each dataset\n",
    "print(\"Size of training dataset:\", len(train_dataset))\n",
    "print(\"Size of validation dataset:\", len(val_dataset))\n",
    "print(\"Size of testing dataset:\", len(test_dataset))"
   ]
  },
  {
   "cell_type": "code",
   "execution_count": 37,
   "metadata": {
    "id": "gDrjxMOFndlR"
   },
   "outputs": [],
   "source": [
    "# Define the basic residual block\n",
    "class BasicBlock(nn.Module):\n",
    "    expansion = 1\n",
    "\n",
    "    def __init__(self, in_channels, out_channels, stride=1):\n",
    "        super(BasicBlock, self).__init__()\n",
    "        self.conv1 = nn.Conv2d(in_channels, out_channels, kernel_size=3, stride=stride, padding=1, bias=False)\n",
    "        self.bn1 = nn.BatchNorm2d(out_channels)\n",
    "        self.relu = nn.ReLU(inplace=True)\n",
    "        self.conv2 = nn.Conv2d(out_channels, out_channels, kernel_size=3, stride=1, padding=1, bias=False)\n",
    "        self.bn2 = nn.BatchNorm2d(out_channels)\n",
    "        self.stride = stride\n",
    "\n",
    "        # Shortcut connection\n",
    "        self.shortcut = nn.Sequential()\n",
    "        if stride != 1 or in_channels != out_channels:\n",
    "            self.shortcut = nn.Sequential(\n",
    "                nn.Conv2d(in_channels, out_channels, kernel_size=1, stride=stride, bias=False),\n",
    "                nn.BatchNorm2d(out_channels)\n",
    "            )\n",
    "\n",
    "    def forward(self, x):\n",
    "        out = self.conv1(x)\n",
    "        out = self.bn1(out)\n",
    "        out = self.relu(out)\n",
    "        out = self.conv2(out)\n",
    "        out = self.bn2(out)\n",
    "\n",
    "        # Shortcut connection\n",
    "        out += self.shortcut(x)\n",
    "        out = self.relu(out)\n",
    "        return out"
   ]
  },
  {
   "cell_type": "code",
   "execution_count": 38,
   "metadata": {
    "colab": {
     "base_uri": "https://localhost:8080/"
    },
    "id": "ejLd8HzBnege",
    "outputId": "8c5e43c0-68d6-4f12-f340-1a8afeda3b09"
   },
   "outputs": [
    {
     "data": {
      "text/plain": [
       "ResNet18(\n",
       "  (conv1): Conv2d(3, 64, kernel_size=(7, 7), stride=(2, 2), padding=(3, 3), bias=False)\n",
       "  (bn1): BatchNorm2d(64, eps=1e-05, momentum=0.1, affine=True, track_running_stats=True)\n",
       "  (relu): ReLU(inplace=True)\n",
       "  (maxpool): MaxPool2d(kernel_size=3, stride=2, padding=1, dilation=1, ceil_mode=False)\n",
       "  (layer1): Sequential(\n",
       "    (0): BasicBlock(\n",
       "      (conv1): Conv2d(64, 64, kernel_size=(3, 3), stride=(1, 1), padding=(1, 1), bias=False)\n",
       "      (bn1): BatchNorm2d(64, eps=1e-05, momentum=0.1, affine=True, track_running_stats=True)\n",
       "      (relu): ReLU(inplace=True)\n",
       "      (conv2): Conv2d(64, 64, kernel_size=(3, 3), stride=(1, 1), padding=(1, 1), bias=False)\n",
       "      (bn2): BatchNorm2d(64, eps=1e-05, momentum=0.1, affine=True, track_running_stats=True)\n",
       "      (shortcut): Sequential()\n",
       "    )\n",
       "    (1): BasicBlock(\n",
       "      (conv1): Conv2d(64, 64, kernel_size=(3, 3), stride=(1, 1), padding=(1, 1), bias=False)\n",
       "      (bn1): BatchNorm2d(64, eps=1e-05, momentum=0.1, affine=True, track_running_stats=True)\n",
       "      (relu): ReLU(inplace=True)\n",
       "      (conv2): Conv2d(64, 64, kernel_size=(3, 3), stride=(1, 1), padding=(1, 1), bias=False)\n",
       "      (bn2): BatchNorm2d(64, eps=1e-05, momentum=0.1, affine=True, track_running_stats=True)\n",
       "      (shortcut): Sequential()\n",
       "    )\n",
       "  )\n",
       "  (layer2): Sequential(\n",
       "    (0): BasicBlock(\n",
       "      (conv1): Conv2d(64, 128, kernel_size=(3, 3), stride=(2, 2), padding=(1, 1), bias=False)\n",
       "      (bn1): BatchNorm2d(128, eps=1e-05, momentum=0.1, affine=True, track_running_stats=True)\n",
       "      (relu): ReLU(inplace=True)\n",
       "      (conv2): Conv2d(128, 128, kernel_size=(3, 3), stride=(1, 1), padding=(1, 1), bias=False)\n",
       "      (bn2): BatchNorm2d(128, eps=1e-05, momentum=0.1, affine=True, track_running_stats=True)\n",
       "      (shortcut): Sequential(\n",
       "        (0): Conv2d(64, 128, kernel_size=(1, 1), stride=(2, 2), bias=False)\n",
       "        (1): BatchNorm2d(128, eps=1e-05, momentum=0.1, affine=True, track_running_stats=True)\n",
       "      )\n",
       "    )\n",
       "    (1): BasicBlock(\n",
       "      (conv1): Conv2d(128, 128, kernel_size=(3, 3), stride=(1, 1), padding=(1, 1), bias=False)\n",
       "      (bn1): BatchNorm2d(128, eps=1e-05, momentum=0.1, affine=True, track_running_stats=True)\n",
       "      (relu): ReLU(inplace=True)\n",
       "      (conv2): Conv2d(128, 128, kernel_size=(3, 3), stride=(1, 1), padding=(1, 1), bias=False)\n",
       "      (bn2): BatchNorm2d(128, eps=1e-05, momentum=0.1, affine=True, track_running_stats=True)\n",
       "      (shortcut): Sequential()\n",
       "    )\n",
       "  )\n",
       "  (layer3): Sequential(\n",
       "    (0): BasicBlock(\n",
       "      (conv1): Conv2d(128, 256, kernel_size=(3, 3), stride=(2, 2), padding=(1, 1), bias=False)\n",
       "      (bn1): BatchNorm2d(256, eps=1e-05, momentum=0.1, affine=True, track_running_stats=True)\n",
       "      (relu): ReLU(inplace=True)\n",
       "      (conv2): Conv2d(256, 256, kernel_size=(3, 3), stride=(1, 1), padding=(1, 1), bias=False)\n",
       "      (bn2): BatchNorm2d(256, eps=1e-05, momentum=0.1, affine=True, track_running_stats=True)\n",
       "      (shortcut): Sequential(\n",
       "        (0): Conv2d(128, 256, kernel_size=(1, 1), stride=(2, 2), bias=False)\n",
       "        (1): BatchNorm2d(256, eps=1e-05, momentum=0.1, affine=True, track_running_stats=True)\n",
       "      )\n",
       "    )\n",
       "    (1): BasicBlock(\n",
       "      (conv1): Conv2d(256, 256, kernel_size=(3, 3), stride=(1, 1), padding=(1, 1), bias=False)\n",
       "      (bn1): BatchNorm2d(256, eps=1e-05, momentum=0.1, affine=True, track_running_stats=True)\n",
       "      (relu): ReLU(inplace=True)\n",
       "      (conv2): Conv2d(256, 256, kernel_size=(3, 3), stride=(1, 1), padding=(1, 1), bias=False)\n",
       "      (bn2): BatchNorm2d(256, eps=1e-05, momentum=0.1, affine=True, track_running_stats=True)\n",
       "      (shortcut): Sequential()\n",
       "    )\n",
       "  )\n",
       "  (layer4): Sequential(\n",
       "    (0): BasicBlock(\n",
       "      (conv1): Conv2d(256, 512, kernel_size=(3, 3), stride=(2, 2), padding=(1, 1), bias=False)\n",
       "      (bn1): BatchNorm2d(512, eps=1e-05, momentum=0.1, affine=True, track_running_stats=True)\n",
       "      (relu): ReLU(inplace=True)\n",
       "      (conv2): Conv2d(512, 512, kernel_size=(3, 3), stride=(1, 1), padding=(1, 1), bias=False)\n",
       "      (bn2): BatchNorm2d(512, eps=1e-05, momentum=0.1, affine=True, track_running_stats=True)\n",
       "      (shortcut): Sequential(\n",
       "        (0): Conv2d(256, 512, kernel_size=(1, 1), stride=(2, 2), bias=False)\n",
       "        (1): BatchNorm2d(512, eps=1e-05, momentum=0.1, affine=True, track_running_stats=True)\n",
       "      )\n",
       "    )\n",
       "    (1): BasicBlock(\n",
       "      (conv1): Conv2d(512, 512, kernel_size=(3, 3), stride=(1, 1), padding=(1, 1), bias=False)\n",
       "      (bn1): BatchNorm2d(512, eps=1e-05, momentum=0.1, affine=True, track_running_stats=True)\n",
       "      (relu): ReLU(inplace=True)\n",
       "      (conv2): Conv2d(512, 512, kernel_size=(3, 3), stride=(1, 1), padding=(1, 1), bias=False)\n",
       "      (bn2): BatchNorm2d(512, eps=1e-05, momentum=0.1, affine=True, track_running_stats=True)\n",
       "      (shortcut): Sequential()\n",
       "    )\n",
       "  )\n",
       "  (avgpool): AdaptiveAvgPool2d(output_size=(1, 1))\n",
       "  (fc): Linear(in_features=512, out_features=1000, bias=True)\n",
       ")"
      ]
     },
     "execution_count": 38,
     "metadata": {},
     "output_type": "execute_result"
    }
   ],
   "source": [
    "# Define the ResNet-18 architecture\n",
    "class ResNet18(nn.Module):\n",
    "    def __init__(self, block, num_blocks, num_classes=1000):\n",
    "        super(ResNet18, self).__init__()\n",
    "        self.in_channels = 64\n",
    "        self.conv1 = nn.Conv2d(3, 64, kernel_size=7, stride=2, padding=3, bias=False)\n",
    "        self.bn1 = nn.BatchNorm2d(64)\n",
    "        self.relu = nn.ReLU(inplace=True)\n",
    "        self.maxpool = nn.MaxPool2d(kernel_size=3, stride=2, padding=1)\n",
    "\n",
    "        self.layer1 = self._make_layer(block, 64, num_blocks[0], stride=1)\n",
    "        self.layer2 = self._make_layer(block, 128, num_blocks[1], stride=2)\n",
    "        self.layer3 = self._make_layer(block, 256, num_blocks[2], stride=2)\n",
    "        self.layer4 = self._make_layer(block, 512, num_blocks[3], stride=2)\n",
    "\n",
    "        self.avgpool = nn.AdaptiveAvgPool2d((1, 1))\n",
    "        self.fc = nn.Linear(512 * block.expansion, num_classes)\n",
    "\n",
    "    def _make_layer(self, block, out_channels, num_blocks, stride):\n",
    "        layers = []\n",
    "        layers.append(block(self.in_channels, out_channels, stride))\n",
    "        self.in_channels = out_channels * block.expansion\n",
    "        for _ in range(1, num_blocks):\n",
    "            layers.append(block(self.in_channels, out_channels))\n",
    "        return nn.Sequential(*layers)\n",
    "\n",
    "    def forward(self, x):\n",
    "        out = self.conv1(x)\n",
    "        out = self.bn1(out)\n",
    "        out = self.relu(out)\n",
    "        out = self.maxpool(out)\n",
    "\n",
    "        out = self.layer1(out)\n",
    "        out = self.layer2(out)\n",
    "        out = self.layer3(out)\n",
    "        out = self.layer4(out)\n",
    "\n",
    "        out = self.avgpool(out)\n",
    "        out = torch.flatten(out, 1)\n",
    "        out = self.fc(out)\n",
    "        return out\n",
    "\n",
    "def ResNet18_custom():\n",
    "    return ResNet18(BasicBlock, [2, 2, 2, 2])\n",
    "model = ResNet18_custom()\n",
    "model"
   ]
  },
  {
   "cell_type": "code",
   "execution_count": 39,
   "metadata": {
    "id": "y6shF-aZnfpP"
   },
   "outputs": [],
   "source": [
    "# Data augmentation\n",
    "train_transform = transforms.Compose([\n",
    "    transforms.RandomResizedCrop(224),\n",
    "    transforms.RandomHorizontalFlip(),\n",
    "    transforms.ToTensor(),\n",
    "    transforms.Normalize(mean=[0.485, 0.456, 0.406], std=[0.229, 0.224, 0.225])\n",
    "])\n",
    "train_dataset.dataset.transform = train_transform"
   ]
  },
  {
   "cell_type": "code",
   "execution_count": 40,
   "metadata": {
    "id": "6182txlPngrB"
   },
   "outputs": [],
   "source": [
    "# Optimizer, loss function, and scheduler\n",
    "optimizer = optim.Adam(model.parameters(), lr=0.001, weight_decay=1e-4)\n",
    "criterion = nn.CrossEntropyLoss()\n",
    "scheduler = ReduceLROnPlateau(optimizer, mode='min', patience=5, factor=0.3, verbose=True)"
   ]
  },
  {
   "cell_type": "code",
   "execution_count": 43,
   "metadata": {
    "colab": {
     "base_uri": "https://localhost:8080/"
    },
    "id": "LM5KRe2InhtN",
    "outputId": "d9808d18-eff3-45f1-863f-159e39ce93fc"
   },
   "outputs": [
    {
     "name": "stdout",
     "output_type": "stream",
     "text": [
      "Epoch 1/5, Total images trained: 1056, Training Accuracy: 83.90%\n",
      "Epoch 1/5, Total images trained: 2048, Training Accuracy: 83.45%\n",
      "Epoch 1/5, Total images trained: 3104, Training Accuracy: 83.47%\n",
      "Epoch 1/5, Total images trained: 4128, Training Accuracy: 83.89%\n",
      "Epoch 1/5, Total images trained: 5120, Training Accuracy: 83.73%\n",
      "Epoch 1/5, Total images trained: 6176, Training Accuracy: 84.18%\n",
      "Epoch 1/5, Total images trained: 7168, Training Accuracy: 84.24%\n",
      "Epoch 1/5, Total images trained: 8224, Training Accuracy: 84.18%\n",
      "Epoch 1/5, Total images trained: 9248, Training Accuracy: 84.03%\n",
      "Epoch 1/5, Total images trained: 10304, Training Accuracy: 83.85%\n",
      "Epoch 1/5, Total images trained: 11392, Training Accuracy: 83.97%\n",
      "Epoch 1/5, Total images trained: 12416, Training Accuracy: 84.04%\n",
      "Epoch 1/5, Total images trained: 13472, Training Accuracy: 83.98%\n",
      "Epoch 1/5, Total images trained: 14496, Training Accuracy: 83.97%\n",
      "Epoch 1/5, Total images trained: 15584, Training Accuracy: 83.97%\n",
      "Epoch 1/5, Total images trained: 16608, Training Accuracy: 84.06%\n",
      "Epoch 1/5, Total images trained: 17664, Training Accuracy: 84.14%\n",
      "Epoch 1/5, Total images trained: 18720, Training Accuracy: 84.16%\n",
      "Epoch 1/5, Total images trained: 19712, Training Accuracy: 84.16%\n",
      "Epoch 1/5, Total images trained: 20768, Training Accuracy: 84.09%\n",
      "Epoch 1/5, Training Loss: 0.4166, Training Accuracy: 84.10%, Validation Loss: 0.3783, Validation Accuracy: 84.78%\n",
      "Epoch 2/5, Total images trained: 32, Training Accuracy: 81.25%\n",
      "Epoch 2/5, Total images trained: 1056, Training Accuracy: 84.85%\n",
      "Epoch 2/5, Total images trained: 2112, Training Accuracy: 85.46%\n",
      "Epoch 2/5, Total images trained: 3104, Training Accuracy: 84.76%\n",
      "Epoch 2/5, Total images trained: 4192, Training Accuracy: 85.07%\n",
      "Epoch 2/5, Total images trained: 5184, Training Accuracy: 84.86%\n",
      "Epoch 2/5, Total images trained: 6240, Training Accuracy: 85.03%\n",
      "Epoch 2/5, Total images trained: 7296, Training Accuracy: 85.20%\n",
      "Epoch 2/5, Total images trained: 8288, Training Accuracy: 85.05%\n",
      "Epoch 2/5, Total images trained: 9376, Training Accuracy: 84.90%\n",
      "Epoch 2/5, Total images trained: 10400, Training Accuracy: 84.91%\n",
      "Epoch 2/5, Total images trained: 11456, Training Accuracy: 85.04%\n",
      "Epoch 2/5, Total images trained: 12480, Training Accuracy: 85.21%\n",
      "Epoch 2/5, Total images trained: 13504, Training Accuracy: 85.13%\n",
      "Epoch 2/5, Total images trained: 14560, Training Accuracy: 85.05%\n",
      "Epoch 2/5, Total images trained: 15584, Training Accuracy: 84.98%\n",
      "Epoch 2/5, Total images trained: 16640, Training Accuracy: 84.90%\n",
      "Epoch 2/5, Total images trained: 17632, Training Accuracy: 84.99%\n",
      "Epoch 2/5, Total images trained: 18688, Training Accuracy: 85.04%\n",
      "Epoch 2/5, Total images trained: 19744, Training Accuracy: 85.05%\n",
      "Epoch 2/5, Total images trained: 20768, Training Accuracy: 85.09%\n",
      "Epoch 2/5, Training Loss: 0.3905, Training Accuracy: 85.11%, Validation Loss: 0.3667, Validation Accuracy: 85.29%\n",
      "Epoch 3/5, Total images trained: 32, Training Accuracy: 81.25%\n",
      "Epoch 3/5, Total images trained: 1056, Training Accuracy: 84.85%\n",
      "Epoch 3/5, Total images trained: 2112, Training Accuracy: 85.04%\n",
      "Epoch 3/5, Total images trained: 3168, Training Accuracy: 84.72%\n",
      "Epoch 3/5, Total images trained: 4192, Training Accuracy: 85.00%\n",
      "Epoch 3/5, Total images trained: 5248, Training Accuracy: 84.62%\n",
      "Epoch 3/5, Total images trained: 6240, Training Accuracy: 84.70%\n",
      "Epoch 3/5, Total images trained: 7296, Training Accuracy: 84.79%\n",
      "Epoch 3/5, Total images trained: 8320, Training Accuracy: 84.69%\n",
      "Epoch 3/5, Total images trained: 9376, Training Accuracy: 84.60%\n",
      "Epoch 3/5, Total images trained: 10464, Training Accuracy: 84.78%\n",
      "Epoch 3/5, Total images trained: 11488, Training Accuracy: 84.77%\n",
      "Epoch 3/5, Total images trained: 12576, Training Accuracy: 84.77%\n",
      "Epoch 3/5, Total images trained: 13600, Training Accuracy: 84.97%\n",
      "Epoch 3/5, Total images trained: 14656, Training Accuracy: 85.06%\n",
      "Epoch 3/5, Total images trained: 15712, Training Accuracy: 85.18%\n",
      "Epoch 3/5, Total images trained: 16736, Training Accuracy: 85.11%\n",
      "Epoch 3/5, Total images trained: 17792, Training Accuracy: 85.11%\n",
      "Epoch 3/5, Total images trained: 18784, Training Accuracy: 85.10%\n",
      "Epoch 3/5, Total images trained: 19840, Training Accuracy: 85.04%\n",
      "Epoch 3/5, Total images trained: 20864, Training Accuracy: 85.07%\n",
      "Epoch 3/5, Training Loss: 0.3872, Training Accuracy: 85.08%, Validation Loss: 0.3815, Validation Accuracy: 85.40%\n",
      "Epoch 4/5, Total images trained: 32, Training Accuracy: 84.38%\n",
      "Epoch 4/5, Total images trained: 1088, Training Accuracy: 86.58%\n",
      "Epoch 4/5, Total images trained: 2080, Training Accuracy: 85.91%\n",
      "Epoch 4/5, Total images trained: 3136, Training Accuracy: 85.55%\n",
      "Epoch 4/5, Total images trained: 4160, Training Accuracy: 85.77%\n",
      "Epoch 4/5, Total images trained: 5184, Training Accuracy: 85.94%\n",
      "Epoch 4/5, Total images trained: 6240, Training Accuracy: 86.22%\n",
      "Epoch 4/5, Total images trained: 7264, Training Accuracy: 86.32%\n",
      "Epoch 4/5, Total images trained: 8320, Training Accuracy: 86.27%\n",
      "Epoch 4/5, Total images trained: 9344, Training Accuracy: 86.13%\n",
      "Epoch 4/5, Total images trained: 10400, Training Accuracy: 86.16%\n",
      "Epoch 4/5, Total images trained: 11456, Training Accuracy: 86.20%\n",
      "Epoch 4/5, Total images trained: 12480, Training Accuracy: 86.11%\n",
      "Epoch 4/5, Total images trained: 13536, Training Accuracy: 86.04%\n",
      "Epoch 4/5, Total images trained: 14560, Training Accuracy: 85.99%\n",
      "Epoch 4/5, Total images trained: 15616, Training Accuracy: 86.03%\n",
      "Epoch 4/5, Total images trained: 16640, Training Accuracy: 86.15%\n",
      "Epoch 4/5, Total images trained: 17696, Training Accuracy: 86.22%\n",
      "Epoch 4/5, Total images trained: 18752, Training Accuracy: 86.25%\n",
      "Epoch 4/5, Total images trained: 19744, Training Accuracy: 86.42%\n",
      "Epoch 4/5, Total images trained: 20832, Training Accuracy: 86.47%\n",
      "Epoch 4/5, Training Loss: 0.3590, Training Accuracy: 86.49%, Validation Loss: 0.3864, Validation Accuracy: 85.16%\n",
      "Epoch 5/5, Total images trained: 32, Training Accuracy: 78.12%\n",
      "Epoch 5/5, Total images trained: 1056, Training Accuracy: 84.94%\n",
      "Epoch 5/5, Total images trained: 2112, Training Accuracy: 85.42%\n",
      "Epoch 5/5, Total images trained: 3104, Training Accuracy: 86.11%\n",
      "Epoch 5/5, Total images trained: 4160, Training Accuracy: 86.18%\n",
      "Epoch 5/5, Total images trained: 5184, Training Accuracy: 86.73%\n",
      "Epoch 5/5, Total images trained: 6240, Training Accuracy: 86.49%\n",
      "Epoch 5/5, Total images trained: 7296, Training Accuracy: 86.47%\n",
      "Epoch 5/5, Total images trained: 8288, Training Accuracy: 86.66%\n",
      "Epoch 5/5, Total images trained: 9344, Training Accuracy: 86.61%\n",
      "Epoch 5/5, Total images trained: 10336, Training Accuracy: 86.61%\n",
      "Epoch 5/5, Total images trained: 11392, Training Accuracy: 86.64%\n",
      "Epoch 5/5, Total images trained: 12448, Training Accuracy: 86.54%\n",
      "Epoch 5/5, Total images trained: 13472, Training Accuracy: 86.41%\n",
      "Epoch 5/5, Total images trained: 14528, Training Accuracy: 86.37%\n",
      "Epoch 5/5, Total images trained: 15520, Training Accuracy: 86.37%\n",
      "Epoch 5/5, Total images trained: 16576, Training Accuracy: 86.48%\n",
      "Epoch 5/5, Total images trained: 17600, Training Accuracy: 86.51%\n",
      "Epoch 5/5, Total images trained: 18656, Training Accuracy: 86.40%\n",
      "Epoch 5/5, Total images trained: 19712, Training Accuracy: 86.36%\n",
      "Epoch 5/5, Total images trained: 20736, Training Accuracy: 86.30%\n",
      "Epoch 5/5, Training Loss: 0.3614, Training Accuracy: 86.30%, Validation Loss: 0.3355, Validation Accuracy: 86.76%\n"
     ]
    }
   ],
   "source": [
    "from torch.nn.parallel import DataParallel\n",
    "\n",
    "device = torch.device(\"cuda\" if torch.cuda.is_available() else \"cpu\")\n",
    "model = model.to(device)\n",
    "\n",
    "# Wrap the model with DataParallel if multiple GPUs are available\n",
    "if torch.cuda.device_count() > 1:\n",
    "    print(\"Using\", torch.cuda.device_count(), \"GPUs!\")\n",
    "    model = DataParallel(model)\n",
    "\n",
    "train_losses = []\n",
    "val_losses = []\n",
    "train_accuracies = []\n",
    "val_accuracies = []\n",
    "\n",
    "# Train the model\n",
    "num_epochs = 5\n",
    "best_val_loss = float('inf')\n",
    "patience = 0\n",
    "\n",
    "start_time = time.time()\n",
    "for epoch in range(num_epochs):\n",
    "    model.train()\n",
    "    train_loss = 0.0\n",
    "    correct_train = 0\n",
    "    total_train = 0\n",
    "    for images, labels in train_loader:\n",
    "        images, labels = images.to(device), labels.to(device)\n",
    "        optimizer.zero_grad()\n",
    "        outputs = model(images)\n",
    "        loss = criterion(outputs, labels)\n",
    "        loss.backward()\n",
    "        optimizer.step()\n",
    "        train_loss += loss.item() * images.size(0)\n",
    "\n",
    "        _, predicted = torch.max(outputs, 1)\n",
    "        total_train += labels.size(0)\n",
    "        correct_train += (predicted == labels).sum().item()\n",
    "\n",
    "        current_time = time.time()\n",
    "        if current_time - start_time >= 5: \n",
    "            print(f\"Epoch {epoch + 1}/{num_epochs}, \"\n",
    "                  f\"Total images trained: {total_train}, \"\n",
    "                  f\"Training Accuracy: {100 * correct_train / total_train:.2f}%\")\n",
    "            start_time = current_time \n",
    "\n",
    "    train_loss /= len(train_loader.dataset)\n",
    "    train_accuracy = correct_train / total_train\n",
    "\n",
    "    # Validation of model\n",
    "    model.eval()\n",
    "    val_loss = 0.0\n",
    "    correct_val = 0\n",
    "    total_val = 0\n",
    "    with torch.no_grad():\n",
    "        for images, labels in val_loader:\n",
    "            images, labels = images.to(device), labels.to(device)\n",
    "            outputs = model(images)\n",
    "            loss = criterion(outputs, labels)\n",
    "            val_loss += loss.item() * images.size(0)\n",
    "            _, predicted = torch.max(outputs, 1)\n",
    "            total_val += labels.size(0)\n",
    "            correct_val += (predicted == labels).sum().item()\n",
    "\n",
    "    val_loss /= len(val_loader.dataset)\n",
    "    val_accuracy = correct_val / total_val\n",
    "\n",
    "    print(f'Epoch {epoch + 1}/{num_epochs}, '\n",
    "          f'Training Loss: {train_loss:.4f}, '\n",
    "          f'Training Accuracy: {100 * train_accuracy:.2f}%, '\n",
    "          f'Validation Loss: {val_loss:.4f}, '\n",
    "          f'Validation Accuracy: {100 * val_accuracy:.2f}%')\n",
    "\n",
    "    # Check for early stopping\n",
    "    if val_loss < best_val_loss:\n",
    "        best_val_loss = val_loss\n",
    "        patience = 0\n",
    "        torch.save(model.state_dict(), 'best_optimized_model.pth')\n",
    "    else:\n",
    "        patience += 1\n",
    "        if patience > 5: \n",
    "            print(\"Early stopping.\")\n",
    "            break\n",
    "\n",
    "    scheduler.step(val_loss)\n",
    "    train_losses.append(train_loss)\n",
    "    val_losses.append(val_loss)\n",
    "    train_accuracies.append(train_accuracy)\n",
    "    val_accuracies.append(val_accuracy)"
   ]
  },
  {
   "cell_type": "code",
   "execution_count": 44,
   "metadata": {
    "colab": {
     "base_uri": "https://localhost:8080/",
     "height": 487
    },
    "id": "i1K053_nn4Ns",
    "outputId": "58168d7b-e79c-4cbc-c5da-9ca528f2adad"
   },
   "outputs": [
    {
     "data": {
      "image/png": "[encoded data removed]",
      "text/plain": [
       "<Figure size 1000x500 with 1 Axes>"
      ]
     },
     "metadata": {},
     "output_type": "display_data"
    }
   ],
   "source": [
    "# Plot training and validation loss\n",
    "plt.figure(figsize=(10, 5))\n",
    "epochs = range(1, len(train_losses) + 1)\n",
    "plt.plot(epochs, train_losses, label='Training Loss')\n",
    "plt.plot(epochs, val_losses, label='Validation Loss')\n",
    "plt.xlabel('Epochs')\n",
    "plt.ylabel('Loss')\n",
    "plt.title('Training and Validation Loss')\n",
    "plt.legend()\n",
    "plt.xticks(epochs)\n",
    "plt.show()"
   ]
  },
  {
   "cell_type": "code",
   "execution_count": 45,
   "metadata": {
    "colab": {
     "base_uri": "https://localhost:8080/",
     "height": 487
    },
    "id": "gIoU1Z0Bn606",
    "outputId": "08d41122-def8-4f81-ee4d-f0247098e202"
   },
   "outputs": [
    {
     "data": {
      "image/png": "[encoded data removed]",
      "text/plain": [
       "<Figure size 1000x500 with 1 Axes>"
      ]
     },
     "metadata": {},
     "output_type": "display_data"
    }
   ],
   "source": [
    "# Plot training and validation accuracy\n",
    "plt.figure(figsize=(10, 5))\n",
    "plt.plot(epochs, train_accuracies, label='Training Accuracy')\n",
    "plt.plot(epochs, val_accuracies, label='Validation Accuracy')\n",
    "plt.xlabel('Epochs')\n",
    "plt.ylabel('Accuracy')\n",
    "plt.title('Training and Validation Accuracy')\n",
    "plt.legend()\n",
    "plt.xticks(epochs)\n",
    "plt.show()"
   ]
  },
  {
   "cell_type": "code",
   "execution_count": 46,
   "metadata": {
    "colab": {
     "base_uri": "https://localhost:8080/"
    },
    "id": "S1fv7uVhn7Gr",
    "outputId": "aaa26195-53be-406b-9003-28b53b952d6d"
   },
   "outputs": [
    {
     "name": "stdout",
     "output_type": "stream",
     "text": [
      "Test Accuracy: 87.04%\n",
      "Test Loss: 0.3432\n"
     ]
    }
   ],
   "source": [
    "# Testing loop\n",
    "correct_test = 0\n",
    "total_test = 0\n",
    "test_loss = 0.0  \n",
    "\n",
    "model.eval() \n",
    "with torch.no_grad():\n",
    "    for images, labels in test_loader:\n",
    "        images, labels = images.to(device), labels.to(device)\n",
    "        outputs = model(images)\n",
    "        _, predicted = torch.max(outputs, 1)\n",
    "        total_test += labels.size(0)\n",
    "        correct_test += (predicted == labels).sum().item()\n",
    "\n",
    "        loss = criterion(outputs, labels)\n",
    "        test_loss += loss.item() * images.size(0)\n",
    "\n",
    "test_loss /= len(test_loader.dataset)\n",
    "test_accuracy = correct_test / total_test\n",
    "print(f'Test Accuracy: {100 * test_accuracy:.2f}%')\n",
    "print(f'Test Loss: {test_loss:.4f}')"
   ]
  },
  {
   "cell_type": "code",
   "execution_count": 47,
   "metadata": {
    "id": "dsgiGMjPoCTm"
   },
   "outputs": [],
   "source": [
    "true_labels = []\n",
    "predicted_labels = []\n",
    "\n",
    "model.eval()\n",
    "with torch.no_grad():\n",
    "    for images, labels in test_loader:\n",
    "        images, labels = images.to(device), labels.to(device)\n",
    "        outputs = model(images)\n",
    "        _, predicted = torch.max(outputs, 1)\n",
    "        true_labels.extend(labels.cpu().numpy())\n",
    "        predicted_labels.extend(predicted.cpu().numpy())"
   ]
  },
  {
   "cell_type": "code",
   "execution_count": 48,
   "metadata": {
    "colab": {
     "base_uri": "https://localhost:8080/"
    },
    "id": "Rt7C7R9hoDlu",
    "outputId": "1ebb44e3-7b3d-4f3f-ed4e-475f2b6789c1"
   },
   "outputs": [
    {
     "name": "stdout",
     "output_type": "stream",
     "text": [
      "Confusion Matrix:\n",
      "[[1301   82   75]\n",
      " [ 214 1212   93]\n",
      " [ 125   16 1382]]\n",
      "\n",
      "Evaluation Metrics:\n",
      "Precision: 0.8711\n",
      "Recall: 0.8656\n",
      "F1 Score: 0.8658\n"
     ]
    }
   ],
   "source": [
    "# Confusion matrix  \n",
    "# Precision, recall, and F1 score\n",
    "conf_matrix = confusion_matrix(true_labels, predicted_labels)\n",
    "precision, recall, f1_score, _ = precision_recall_fscore_support(true_labels, predicted_labels, average='weighted')\n",
    "\n",
    "# Print confusion matrix\n",
    "print(\"Confusion Matrix:\")\n",
    "print(conf_matrix)\n",
    "\n",
    "# Print evaluation metrics\n",
    "print(\"\\nEvaluation Metrics:\")\n",
    "print(f\"Precision: {precision:.4f}\")\n",
    "print(f\"Recall: {recall:.4f}\")\n",
    "print(f\"F1 Score: {f1_score:.4f}\")"
   ]
  },
  {
   "cell_type": "code",
   "execution_count": 49,
   "metadata": {
    "colab": {
     "base_uri": "https://localhost:8080/",
     "height": 540
    },
    "id": "kZaegXNXoEgO",
    "outputId": "22f83409-fe5a-49f0-e8d2-370b10247a11"
   },
   "outputs": [
    {
     "data": {
      "image/png": "[encoded data removed]",
      "text/plain": [
       "<Figure size 800x600 with 2 Axes>"
      ]
     },
     "metadata": {},
     "output_type": "display_data"
    }
   ],
   "source": [
    "import seaborn as sns\n",
    "import matplotlib.pyplot as plt\n",
    "from sklearn.metrics import confusion_matrix, precision_recall_fscore_support\n",
    "# Plot confusion matrix without labels\n",
    "plt.figure(figsize=(8, 6))\n",
    "sns.heatmap(conf_matrix, annot=True, fmt=\"d\", cmap=\"Blues\", xticklabels=False, yticklabels=False)\n",
    "plt.xlabel(\"Predicted Labels\")\n",
    "plt.ylabel(\"True Labels\")\n",
    "plt.title(\"Confusion Matrix\")\n",
    "plt.show()"
   ]
  },
  {
   "cell_type": "code",
   "execution_count": null,
   "metadata": {
    "id": "IDufPqMwoGXD"
   },
   "outputs": [],
   "source": []
  }
 ],
 "metadata": {
  "accelerator": "GPU",
  "colab": {
   "gpuType": "T4",
   "provenance": []
  },
  "kernelspec": {
   "display_name": "Python 3 (ipykernel)",
   "language": "python",
   "name": "python3"
  },
  "language_info": {
   "codemirror_mode": {
    "name": "ipython",
    "version": 3
   },
   "file_extension": ".py",
   "mimetype": "text/x-python",
   "name": "python",
   "nbconvert_exporter": "python",
   "pygments_lexer": "ipython3",
   "version": "3.11.5"
  }
 },
 "nbformat": 4,
 "nbformat_minor": 1
}
